{
 "cells": [
  {
   "cell_type": "markdown",
   "metadata": {},
   "source": [
    "# LAB TASK 7"
   ]
  },
  {
   "cell_type": "code",
   "execution_count": 3,
   "metadata": {},
   "outputs": [
    {
     "name": "stdout",
     "output_type": "stream",
     "text": [
      "Total lines:  0\n",
      "Total words:  10\n",
      "The tot characters:  90\n"
     ]
    }
   ],
   "source": [
    "#QUESTION 1\n",
    "def stats(x):\n",
    "    infile=open('untitled.txt','r')\n",
    "    content=infile.read()\n",
    "    lines=infile.readlines()\n",
    "    words=content.split()\n",
    "    infile.close()\n",
    "    print(\"Total lines: \",len(lines))\n",
    "    print(\"Total words: \",len(words))\n",
    "    print(\"The tot characters: \",len(content))\n",
    "stats('untitled.txt')    \n",
    "    \n",
    "    \n",
    "    \n",
    "    \n",
    "    "
   ]
  },
  {
   "cell_type": "code",
   "execution_count": 7,
   "metadata": {},
   "outputs": [
    {
     "name": "stdout",
     "output_type": "stream",
     "text": [
      "Total lines:  6\n"
     ]
    }
   ],
   "source": [
    "\n",
    "def stats(x):\n",
    "    infile=open('untitled.txt','r')\n",
    "    lines=infile.readlines()\n",
    "    \n",
    "    print(\"Total lines: \",len(lines))\n",
    "stats('untitled.txt')        "
   ]
  },
  {
   "cell_type": "code",
   "execution_count": 14,
   "metadata": {},
   "outputs": [
    {
     "name": "stdout",
     "output_type": "stream",
     "text": [
      "Students Got A is:  12 \n",
      "Students Got A- is:  4 \n",
      "Students Got B is:  12 \n",
      "Students Got C is:  4 \n",
      "Students Got B+ is:  4 \n",
      "Students Got F- is:  4\n"
     ]
    }
   ],
   "source": [
    "#QUESTION 2\n",
    "def distribution(x):\n",
    "    infile=open('grades.txt','r')\n",
    "    content=infile.read()\n",
    "    grades=content.split()\n",
    "    print(\"Students Got A is: \",grades.count('A'),\"\\nStudents Got A- is: \",grades.count('A-'),\"\\nStudents Got B is: \",grades.count('B'),\"\\nStudents Got C is: \",grades.count('C'),\"\\nStudents Got B+ is: \",grades.count('B+'),\"\\nStudents Got F- is: \",grades.count('F'))\n",
    "distribution('grades.txt')    "
   ]
  },
  {
   "cell_type": "code",
   "execution_count": 15,
   "metadata": {},
   "outputs": [
    {
     "data": {
      "text/plain": [
       "True"
      ]
     },
     "execution_count": 15,
     "metadata": {},
     "output_type": "execute_result"
    }
   ],
   "source": [
    "#QUESTION 3\n",
    "def duplicate(x):\n",
    "    infile=open('Duplicates.txt','r')\n",
    "    content=infile.read()\n",
    "    content.split()\n",
    "    for i in content:\n",
    "        if content.count(i)>1:\n",
    "            return True\n",
    "        else:\n",
    "            return False\n",
    "duplicate('Duplicates.txt')        "
   ]
  },
  {
   "cell_type": "code",
   "execution_count": 10,
   "metadata": {},
   "outputs": [],
   "source": [
    "#QUESTION 4\n",
    "def abc(x): \n",
    "    file = open(\"example.txt\", \"rt\")\n",
    "    file2 = open(\"Replace.txt\", \"wt\")\n",
    "    for lines in file:\n",
    "        words = lines.split(\" \")\n",
    "        for word in words:\n",
    "            if len(word)==4:\n",
    "                lines = lines.replace(word, 'xxxx')\n",
    "        file2.write(lines)\n",
    "    file.close()\n",
    "    file2.close()\n",
    "abc('example.txt')    "
   ]
  }
 ],
 "metadata": {
  "kernelspec": {
   "display_name": "Python 3",
   "language": "python",
   "name": "python3"
  },
  "language_info": {
   "codemirror_mode": {
    "name": "ipython",
    "version": 3
   },
   "file_extension": ".py",
   "mimetype": "text/x-python",
   "name": "python",
   "nbconvert_exporter": "python",
   "pygments_lexer": "ipython3",
   "version": "3.7.3"
  }
 },
 "nbformat": 4,
 "nbformat_minor": 2
}
