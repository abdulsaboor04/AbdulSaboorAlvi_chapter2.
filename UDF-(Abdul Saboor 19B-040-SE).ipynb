{
 "cells": [
  {
   "cell_type": "markdown",
   "metadata": {},
   "source": [
    "# Python User Define Function Practice Activity - 2 "
   ]
  },
  {
   "cell_type": "markdown",
   "metadata": {},
   "source": [
    "Asst. Prof. Syed Faisal Ali              $\\;\\;\\;\\;\\;\\;$              Programming Fundamentals - FALL 2019 $\\;\\;\\;\\;\\;\\;$ Software Engineering                     $\\;\\;\\;\\;\\;\\;$                   Dated: 27 Nov 2019"
   ]
  },
  {
   "cell_type": "markdown",
   "metadata": {},
   "source": [
    "Question 1: Create a function to find the following:\n",
    "If the base of triangle is 3 cm long and its equilateral triangle and the radius of circle is 1.5 cm then find the area of triangle shaded. \n"
   ]
  },
  {
   "cell_type": "markdown",
   "metadata": {},
   "source": [
    "![proj](q1.jpg)"
   ]
  },
  {
   "cell_type": "code",
   "execution_count": 3,
   "metadata": {},
   "outputs": [
    {
     "name": "stdout",
     "output_type": "stream",
     "text": [
      "Area of a rectangle shaded is :  63.078557706539534 cm**2\n"
     ]
    }
   ],
   "source": [
    "from math import sqrt\n",
    "def area():\n",
    "    pi=3.142\n",
    "    b = 3\n",
    "    r = 1.5\n",
    "    h = sqrt(b**2-r**2)\n",
    "    a1= 6*(1.5*b*h)\n",
    "    a2= pi* r**2\n",
    "    Shaded= a1-a2\n",
    "    print(\"Area of a rectangle shaded is : \",Shaded,\"cm**2\" )    \n",
    "area()"
   ]
  },
  {
   "cell_type": "markdown",
   "metadata": {},
   "source": [
    "Question 2: Create a function which can read a dictionary of your family members such as 5 members. \n",
    "1 Abbu, 1 Ammi, 2 Brothers 1 Sister. Now feed this data in dictionary in terms of name and relations.\n",
    "The UDF will ask findrelation() in this you will enter Brother it will return the names of two brothers you have inserted. In case if the relation is not found it will return “Sorry the relation doesn’t exist in your family.” \n"
   ]
  },
  {
   "cell_type": "code",
   "execution_count": 4,
   "metadata": {},
   "outputs": [
    {
     "name": "stdout",
     "output_type": "stream",
     "text": [
      "['Mujeeb', 'Saboor']\n",
      "['Nayyer']\n"
     ]
    }
   ],
   "source": [
    "def relationship(Relation):\n",
    "    family = {'father' : ['Nayyer'] , 'mother' : ['XYZ'] ,'brothers' : ['Mujeeb','Saboor'] , 'sister' : ['ABC']  }\n",
    "    if Relation.lower() in family:\n",
    "        print(family.get(Relation.lower()))\n",
    "    else:\n",
    "        print(\"Sorry Relation Does not exist in your family\")\n",
    "relationship('Brothers')\n",
    "relationship('Father')\n",
    "\n",
    "\n",
    "    \n",
    "\n",
    "\n",
    "    \n"
   ]
  },
  {
   "cell_type": "markdown",
   "metadata": {},
   "source": [
    "Question 3: Create a function to find the following:\n",
    "If the base of triangle is 5 cm long and its equilateral triangle and the radius of circle is 2.25 cm then find the area of triangle shaded. \n"
   ]
  },
  {
   "cell_type": "markdown",
   "metadata": {},
   "source": [
    "![proj](q3.jpg)"
   ]
  },
  {
   "cell_type": "code",
   "execution_count": 6,
   "metadata": {},
   "outputs": [
    {
     "name": "stdout",
     "output_type": "stream",
     "text": [
      "Area of Shaded Region =  11.162856937182344 cm**2\n"
     ]
    }
   ],
   "source": [
    "def surfacearea():\n",
    "    b = 5\n",
    "    r = 2.25\n",
    "    h = sqrt(b**2-r**2)\n",
    "    a =  h*b/2\n",
    "    shaded = a\n",
    "    print(\"Area of Shaded Region = \", shaded, \"cm**2\")\n",
    "    \n",
    "surfacearea()\n"
   ]
  },
  {
   "cell_type": "markdown",
   "metadata": {},
   "source": [
    "Question 4:\n",
    "Create a function that takes a list of random numbers from users and add only those which are even. If all the numbers are odd it will return sorry no even number found.\n"
   ]
  },
  {
   "cell_type": "code",
   "execution_count": 1,
   "metadata": {},
   "outputs": [
    {
     "name": "stdout",
     "output_type": "stream",
     "text": [
      "Enter the Numbers : 3\n",
      "Enter the Numbers : 5\n",
      "Enter the Numbers : 8\n",
      "Enter the Numbers : 2\n",
      "Total Sum of Even Number =  3\n"
     ]
    }
   ],
   "source": [
    "def even():\n",
    "    x =[2,3,4,6,7,8]\n",
    "    sum = 0\n",
    "    for i in range(4):\n",
    "        x[i]=int(input(\"Enter the Numbers : \"))\n",
    "    for i in x:\n",
    "        if i%2==0:\n",
    "            sum = sum + 1\n",
    "    print(\"Total Sum of Even Number = \",sum)\n",
    "even()"
   ]
  },
  {
   "cell_type": "markdown",
   "metadata": {},
   "source": [
    "Question 5:\n",
    "Write a function which can take a list of numbers and it will return sorted list.\n"
   ]
  },
  {
   "cell_type": "code",
   "execution_count": 2,
   "metadata": {},
   "outputs": [
    {
     "name": "stdout",
     "output_type": "stream",
     "text": [
      "Enter The Number :2\n",
      "Enter The Number :3\n",
      "Enter The Number :6\n",
      "Enter The Number :8\n",
      "[2, 3, 6, 8]\n"
     ]
    }
   ],
   "source": [
    "def sort():\n",
    "    x = ['','','','']\n",
    "    sum = 0\n",
    "    for i in range(4):\n",
    "        x[i]=int(input(\"Enter The Number :\"))\n",
    "    x.sort()\n",
    "    print(x)\n",
    "sort()"
   ]
  },
  {
   "cell_type": "markdown",
   "metadata": {},
   "source": [
    "Question 6:\n",
    "Write a function that will take the radius and return the perimeter and area of circle with 5% increment.\n"
   ]
  },
  {
   "cell_type": "code",
   "execution_count": 4,
   "metadata": {},
   "outputs": [
    {
     "name": "stdout",
     "output_type": "stream",
     "text": [
      "Original Area : 19.792033717615695 cm**2\n",
      "Area with 5% increment : 29.688050576423546 cm**2\n",
      "\n",
      "Original Perimeter : 18.84955592153876 cm\n",
      "Perimeter with 5% increment : 28.274333882308138 cm\n"
     ]
    }
   ],
   "source": [
    "from math import pi\n",
    "def increment(r):\n",
    "    Area_1=  pi * r**2\n",
    "    Perimeter_1 =2 * pi * r\n",
    "    Area_2 = (Area_1/100)*105\n",
    "    Perimeter_2=(Perimeter_1/100)*105\n",
    "    print(\"Original Area :\",Perimeter_2,\"cm**2\")\n",
    "    print(\"Area with 5% increment :\", Area_2,'cm**2')\n",
    "    print()\n",
    "    print(\"Original Perimeter :\",Perimeter_1,'cm')\n",
    "    print(\"Perimeter with 5% increment :\",Area_1 ,'cm')\n",
    "increment(3)"
   ]
  },
  {
   "cell_type": "markdown",
   "metadata": {},
   "source": [
    "Question 7:\n",
    "Write a function that will take the strings as argument and return number of vowels and consonants.\n"
   ]
  },
  {
   "cell_type": "code",
   "execution_count": 5,
   "metadata": {},
   "outputs": [
    {
     "name": "stdout",
     "output_type": "stream",
     "text": [
      "Enter Your String : sabOOr\n",
      " Number of Vowels in your String :  3\n",
      " Number of Constant in your String :  3\n"
     ]
    }
   ],
   "source": [
    "def vowcons():\n",
    "    total = 0\n",
    "    count = 0\n",
    "    string = input(\"Enter Your String : \")\n",
    "    \n",
    "    for i in string:\n",
    "        if i in 'AEIOUaeiou':\n",
    "            total = total +1\n",
    "        else:\n",
    "            count = count + 1\n",
    "    print(\" Number of Vowels in your String : \",total)\n",
    "    print(\" Number of Constant in your String : \",count)\n",
    "vowcons()"
   ]
  },
  {
   "cell_type": "markdown",
   "metadata": {},
   "source": [
    "Question 8:\n",
    "Write a function that will take length and breadth for a rectangle and return perimeter and area of rectangle with 8% increment.\n"
   ]
  },
  {
   "cell_type": "code",
   "execution_count": 6,
   "metadata": {},
   "outputs": [
    {
     "name": "stdout",
     "output_type": "stream",
     "text": [
      "Enter Length of Rectangle : 5\n",
      "Enter Breadth of Rectangle : 6\n",
      "Original Area :  6 cm**2\n",
      "Area with 5% increment : 6.4799999999999995 cm**2\n",
      "Original Perimeter : 14 cm\n",
      "Perimeter with 5% increment : 15.120000000000001 cm\n"
     ]
    }
   ],
   "source": [
    "def inc():\n",
    "    length = int(input(\"Enter Length of Rectangle : \"))\n",
    "    breadth = int(input(\"Enter Breadth of Rectangle : \"))\n",
    "    Area_1= 1*breadth\n",
    "    Perimeter_1= 2*1+2*breadth\n",
    "    Area_2= (Area_1/100)*108\n",
    "    Perimeter_2 = (Perimeter_1/100)*108\n",
    "    print(\"Original Area : \",Area_1,'cm**2')\n",
    "    print(\"Area with 5% increment :\" , Area_2,'cm**2')\n",
    "    \n",
    "    print(\"Original Perimeter :\",Perimeter_1,'cm' )\n",
    "    print(\"Perimeter with 5% increment :\",Perimeter_2,'cm' )\n",
    "inc()"
   ]
  },
  {
   "cell_type": "markdown",
   "metadata": {},
   "source": [
    "Question 9:\n",
    "Write a function that can take the numbers in strings. From string find which number is even and which one is odd. Save them in two different lists and generate the result.\n"
   ]
  },
  {
   "cell_type": "code",
   "execution_count": 1,
   "metadata": {},
   "outputs": [
    {
     "name": "stdout",
     "output_type": "stream",
     "text": [
      "Enter a Number : 3\n",
      "Enter a Number : 6\n",
      "Enter a Number : 5\n",
      "Enter a Number : 4\n",
      "Even Numbers :  ['6', '4']\n",
      "Odd Numbers  :  ['3', '5']\n"
     ]
    }
   ],
   "source": [
    "def evenodd():\n",
    "    x = []\n",
    "    y = []\n",
    "    for i in range(4):\n",
    "        num = str(input(\"Enter a Number : \"))\n",
    "        if int(num)%2==0:\n",
    "            x.append(num)\n",
    "        else:\n",
    "            y.append(num)\n",
    "    print(\"Even Numbers : \",x)\n",
    "    print(\"Odd Numbers  : \",y)\n",
    "evenodd()"
   ]
  },
  {
   "cell_type": "markdown",
   "metadata": {},
   "source": [
    "Question 10:\n",
    "Write a function which will take the string from the user and return how many alphabets have been used in it and which alphabets are missing.\n"
   ]
  },
  {
   "cell_type": "code",
   "execution_count": 4,
   "metadata": {},
   "outputs": [
    {
     "name": "stdout",
     "output_type": "stream",
     "text": [
      "Alphabets Used :  6\n",
      "Alphabets not Used : \n",
      "['c', 'd', 'e', 'f', 'g', 'h', 'i', 'j', 'k', 'l', 'M', 'n', 'p', 's', 't', 'u', 'w', 'x', 'y', 'z']\n"
     ]
    }
   ],
   "source": [
    "def counting(y):\n",
    "    count= 0\n",
    "    x = ['a','b','c','d','e','f','g','h','i','j','k','l','M','n','o','p','q','r','s','t','u','v','w','x','y','z']\n",
    "    y.casefold()\n",
    "    z =['']\n",
    "    for i in y:\n",
    "        if i in x and i not in z:\n",
    "            count = count + 1 \n",
    "            c = z.append(i)\n",
    "            x.remove(i)\n",
    "    print(\"Alphabets Used : \" ,count)\n",
    "    print(\"Alphabets not Used : \")\n",
    "    print(x)\n",
    "counting('SaboorXvq')\n"
   ]
  },
  {
   "cell_type": "markdown",
   "metadata": {},
   "source": [
    "Question 11:\n",
    "Write a function that will take verbs in words and return a list of verbs with continuous tense by adding (ing) at the end of each verb.\n"
   ]
  },
  {
   "cell_type": "code",
   "execution_count": 5,
   "metadata": {},
   "outputs": [
    {
     "name": "stdout",
     "output_type": "stream",
     "text": [
      "['Sleeping', 'Playing', 'Eating']\n"
     ]
    }
   ],
   "source": [
    "def ing():\n",
    "    verb=['Sleep','Play','Eat']\n",
    "    y =['','','',]\n",
    "    for i in range(5):\n",
    "        k = 0\n",
    "    for x in verb:\n",
    "        y[k]=x+\"ing\"\n",
    "        k = k+1\n",
    "    print(y)\n",
    "ing() "
   ]
  },
  {
   "cell_type": "markdown",
   "metadata": {},
   "source": [
    "Question 12:\n",
    "Make a function which can take two radius of circles and find the areas of it and subtract smaller one from larger one and tell the remaining area of circle.\n"
   ]
  },
  {
   "cell_type": "code",
   "execution_count": 6,
   "metadata": {},
   "outputs": [
    {
     "name": "stdout",
     "output_type": "stream",
     "text": [
      "Enter radius  of 1st Circle  : 3\n",
      "Enter radius of 2nd Circle : 6\n",
      "Area of Circle 1=  28.274333882308138 cm**2\n",
      "Area of Circle 2=  113.09733552923255 cm**2\n",
      "After subtracting Area of Square  is: 84.82300164692441 cm**2\n"
     ]
    }
   ],
   "source": [
    "from math import pi\n",
    "def RemArea():\n",
    "    radius1=eval(input(\"Enter radius  of 1st Circle  : \"))\n",
    "    radius2=eval(input(\"Enter radius of 2nd Circle : \"))\n",
    "    \n",
    "    circle1 = pi * radius1**2\n",
    "    print(\"Area of Circle 1= \",circle1,\"cm**2\")\n",
    "    circle2 = pi * radius2**2\n",
    "    print(\"Area of Circle 2= \",circle2,\"cm**2\")\n",
    "    \n",
    "    if circle1 > circle2 :\n",
    "        rem1 = circle1-circle2\n",
    "        print(\"After subtracting Area of Circle is: \", rem1,'cm**2')\n",
    "    elif circle2 > circle1 :\n",
    "        rem2 = circle2-circle1\n",
    "        print(\"After subtracting Area of Square  is:\" , rem2,'cm**2')\n",
    "\n",
    "RemArea()"
   ]
  },
  {
   "cell_type": "markdown",
   "metadata": {},
   "source": [
    "Question 13:\n",
    "Write a function that will take a string and calculate number of Upper case letters and lower case letters.\n"
   ]
  },
  {
   "cell_type": "code",
   "execution_count": 7,
   "metadata": {},
   "outputs": [
    {
     "name": "stdout",
     "output_type": "stream",
     "text": [
      "Enter Your String : SAboooR\n",
      " Number of Uppercase :  3\n",
      " Number of Lowercase :  4\n"
     ]
    }
   ],
   "source": [
    "def calculate():\n",
    "    total = 0\n",
    "    count = 0\n",
    "    string = input(\"Enter Your String : \")\n",
    "    \n",
    "    for i in string:\n",
    "        if i in 'ABCDEFGHIJKLMNOPQRSTUVWXYZ':\n",
    "            total = total + 1\n",
    "        else:\n",
    "            if i in 'abcdefghijklmnopqrstuvwxyz':\n",
    "                count = count + 1\n",
    "    print(\" Number of Uppercase : \",total)\n",
    "    print(\" Number of Lowercase : \",count)\n",
    "calculate()"
   ]
  },
  {
   "cell_type": "markdown",
   "metadata": {},
   "source": [
    "Question 14:\n",
    "Write a function which will take length and breadth of two rectangles. Subtract the smaller rectangle from the larger rectangle and return the area left behind.\n"
   ]
  },
  {
   "cell_type": "code",
   "execution_count": 8,
   "metadata": {},
   "outputs": [
    {
     "name": "stdout",
     "output_type": "stream",
     "text": [
      "Enter Length of Rectangle 1 : 4\n",
      "Enter Bredth of Rectangle 1 : 8\n",
      "Enter Length of Rectangle 2 : 3\n",
      "Enter Bredth of Rectangle 2 : 4\n",
      "Area of bigger Rectangle: 20 cm**2\n"
     ]
    }
   ],
   "source": [
    "def area():\n",
    "    length1=eval(input(\"Enter Length of Rectangle 1 : \"))\n",
    "    breadth1=eval(input(\"Enter Bredth of Rectangle 1 : \"))\n",
    "    length2=eval(input(\"Enter Length of Rectangle 2 : \"))\n",
    "    breadth2=eval(input(\"Enter Bredth of Rectangle 2 : \"))\n",
    "    area1 = length1*breadth1\n",
    "    area2 = length2*breadth2\n",
    "    if area1 > area2:\n",
    "        rem1= area1-area2\n",
    "        print(\"Area of bigger Rectangle:\",rem1,'cm**2')\n",
    "    if area2 > area1:\n",
    "        rem2= area2-area1\n",
    "        print(\"Area of Bigger Rectangle:\",rem2,'cm**2')  \n",
    "area()"
   ]
  },
  {
   "cell_type": "markdown",
   "metadata": {},
   "source": [
    "Question 15:\n",
    "Create a function that can add the fractions in series such as 1 to 8 = 1/8+1/7+1/6+1/5 …… ½ and return the result in fraction not in decimal.\n"
   ]
  },
  {
   "cell_type": "code",
   "execution_count": 9,
   "metadata": {},
   "outputs": [
    {
     "name": "stdout",
     "output_type": "stream",
     "text": [
      "The sum is:  761/280\n"
     ]
    }
   ],
   "source": [
    "from fractions import Fraction\n",
    "def addfrac():\n",
    "    sum = 0\n",
    "    for x in range(1,9):\n",
    "        sum = sum + Fraction(1,x) \n",
    "        \n",
    "    print(\"The sum is: \",sum)\n",
    "addfrac()"
   ]
  },
  {
   "cell_type": "markdown",
   "metadata": {},
   "source": [
    "Question 16:\n",
    "Write a function which will take height and base for a triangle and \n"
   ]
  },
  {
   "cell_type": "code",
   "execution_count": null,
   "metadata": {},
   "outputs": [],
   "source": [
    "#Dont know what to do sirrr\n"
   ]
  },
  {
   "cell_type": "markdown",
   "metadata": {},
   "source": [
    "Question 17:\n",
    "Write a function which will take a list of fruits names. The function will return how many alphabets are repetitive in the names of fruits and how many are unique letters.\n"
   ]
  },
  {
   "cell_type": "code",
   "execution_count": 1,
   "metadata": {},
   "outputs": [
    {
     "name": "stdout",
     "output_type": "stream",
     "text": [
      "Fruit Name : Apple\n",
      "Fruit Name : Banana\n",
      "Fruit Name : Pineapple\n",
      "Number of Unique letters :  9\n",
      "Number of Repetitive Letters :  11\n"
     ]
    }
   ],
   "source": [
    "def repetitive():\n",
    "    a = ['']\n",
    "    count = 0\n",
    "    tot = 0\n",
    "    fruits=['','','','']\n",
    "    for i in range(3):\n",
    "        fruits[i]=input(\"Fruit Name : \")\n",
    "    for i in fruits:\n",
    "        for j in i :\n",
    "            if j in a:\n",
    "                count = count + 1 \n",
    "            if j not in a:\n",
    "                a.append(j)\n",
    "                tot = tot + 1 \n",
    "    print(\"Number of Unique letters : \",tot)\n",
    "    print(\"Number of Repetitive Letters : \",count)\n",
    "repetitive()            "
   ]
  },
  {
   "cell_type": "markdown",
   "metadata": {},
   "source": [
    "Question 18:\n",
    "Write a function that can take square length and radius of circle. Find the area of both and subtract the smallest shape from largest one and return the remaining shape area.\n"
   ]
  },
  {
   "cell_type": "code",
   "execution_count": null,
   "metadata": {},
   "outputs": [],
   "source": []
  }
 ],
 "metadata": {
  "kernelspec": {
   "display_name": "Python 3",
   "language": "python",
   "name": "python3"
  },
  "language_info": {
   "codemirror_mode": {
    "name": "ipython",
    "version": 3
   },
   "file_extension": ".py",
   "mimetype": "text/x-python",
   "name": "python",
   "nbconvert_exporter": "python",
   "pygments_lexer": "ipython3",
   "version": "3.7.3"
  }
 },
 "nbformat": 4,
 "nbformat_minor": 2
}
