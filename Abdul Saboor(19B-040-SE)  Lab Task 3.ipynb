{
 "cells": [
  {
   "cell_type": "code",
   "execution_count": 3,
   "metadata": {},
   "outputs": [
    {
     "name": "stdout",
     "output_type": "stream",
     "text": [
      "Linear velocity when radius is 0.5 meter and angular speed is 10:5.0 m/s\n",
      "Linear velocity when radius is 1 meter and angular speed is 10:10 m/s\n",
      "Linear velocity when radius is 3 meter and angular speed is 10:30 m/s\n"
     ]
    }
   ],
   "source": [
    "#QUESTION 1\n",
    "#Given\n",
    "R1 = 0.5\n",
    "R2 = 1\n",
    "R3 = 3\n",
    "ASpeed  = 10 \n",
    "#Calculation\n",
    "V1 = R1 * ASpeed\n",
    "print (\"Linear velocity when radius is 0.5 meter and angular speed is 10:\"+str(V1)+\" m/s\")\n",
    "\n",
    "V2 = R2 * ASpeed\n",
    "print (\"Linear velocity when radius is 1 meter and angular speed is 10:\"+str(V2)+\" m/s\")\n",
    "\n",
    "V3 = R3 * ASpeed\n",
    "print (\"Linear velocity when radius is 3 meter and angular speed is 10:\"+str(V3)+\" m/s\")"
   ]
  },
  {
   "cell_type": "code",
   "execution_count": 4,
   "metadata": {},
   "outputs": [
    {
     "name": "stdout",
     "output_type": "stream",
     "text": [
      "The magnitude of the linear velocity when radius is 5 centimeters is : 2615.62 m/s \n",
      "The magnitude of the linear velocity when radius is 10 centimeters is : 5231.24 m/s \n"
     ]
    }
   ],
   "source": [
    "#QUESTION 2\n",
    "#Given:\n",
    "R1 = 5\n",
    "R2 = 10\n",
    "#Calculation\n",
    "w= 5000/60\n",
    "w=83.3*6.28\n",
    "V1 = R1*w\n",
    "print(\"The magnitude of the linear velocity when radius is 5 centimeters is : \"+str(V1)+\" m/s \")\n",
    "V2 =R2*w\n",
    "print(\"The magnitude of the linear velocity when radius is 10 centimeters is : \"+str(V2)+\" m/s \")"
   ]
  },
  {
   "cell_type": "code",
   "execution_count": 5,
   "metadata": {},
   "outputs": [
    {
     "name": "stdout",
     "output_type": "stream",
     "text": [
      "The angular velocity is: 33.333333333333336 sec-1\n"
     ]
    }
   ],
   "source": [
    "#QUESTION 3\n",
    "R= 0.3\n",
    "Const_speed = 10\n",
    "w = Const_speed/R\n",
    "print(\"The angular velocity is: \"+str(w)+\" sec-1\")"
   ]
  },
  {
   "cell_type": "code",
   "execution_count": 6,
   "metadata": {},
   "outputs": [
    {
     "name": "stdout",
     "output_type": "stream",
     "text": [
      "Angular speed of the car is: 40.0 sec-1\n"
     ]
    }
   ],
   "source": [
    "#QUESTION 4\n",
    "V = 10\n",
    "R = 0.25\n",
    "ang_speed = V/R\n",
    "print(\"Angular speed of the car is: \"+str(ang_speed)+\" sec-1\")"
   ]
  },
  {
   "cell_type": "code",
   "execution_count": 8,
   "metadata": {},
   "outputs": [
    {
     "name": "stdout",
     "output_type": "stream",
     "text": [
      "The Car will be 120.0 miles far\n"
     ]
    }
   ],
   "source": [
    "#QUESTION 6\n",
    "U=50 \n",
    "a=10\n",
    "t= 2\n",
    "V= (U*t)+(1/2)*a*t**2\n",
    "print(\"The Car will be \"+str(V)+ \" miles far\")"
   ]
  },
  {
   "cell_type": "code",
   "execution_count": 10,
   "metadata": {},
   "outputs": [
    {
     "name": "stdout",
     "output_type": "stream",
     "text": [
      "The distace covered by the car is : 25.120000000000005 meters \n"
     ]
    }
   ],
   "source": [
    "#QUESTION 5\n",
    "R = 0.2\n",
    "Ang_speed = 12.56\n",
    "t = 10\n",
    "distance = R*Ang_speed*t\n",
    "print(\"The distace covered by the car is : \"+str(distance)+\" meters \")"
   ]
  },
  {
   "cell_type": "code",
   "execution_count": 16,
   "metadata": {},
   "outputs": [
    {
     "name": "stdout",
     "output_type": "stream",
     "text": [
      "The velocity at which the stone will hit the ground is : 80.0 m/s \n"
     ]
    }
   ],
   "source": [
    "#QUESTION 7\n",
    "from math import sqrt\n",
    "u = 0\n",
    "H = 100\n",
    "acc = 32\n",
    "velocity =sqrt(2*acc*H-u**2)\n",
    "print(\"The velocity at which the stone will hit the ground is : \"+str(velocity)+\" m/s \")"
   ]
  }
 ],
 "metadata": {
  "kernelspec": {
   "display_name": "Python 3",
   "language": "python",
   "name": "python3"
  },
  "language_info": {
   "codemirror_mode": {
    "name": "ipython",
    "version": 3
   },
   "file_extension": ".py",
   "mimetype": "text/x-python",
   "name": "python",
   "nbconvert_exporter": "python",
   "pygments_lexer": "ipython3",
   "version": "3.7.3"
  }
 },
 "nbformat": 4,
 "nbformat_minor": 2
}
