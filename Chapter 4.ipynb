{
 "cells": [
  {
   "cell_type": "code",
   "execution_count": 9,
   "metadata": {},
   "outputs": [
    {
     "name": "stdout",
     "output_type": "stream",
     "text": [
      "123\n",
      "78\n",
      "1234567\n",
      "0123\n",
      "789\n"
     ]
    }
   ],
   "source": [
    "#4.1\n",
    "s='0123456789'\n",
    "#(a)\n",
    "print(s[1:4])\n",
    "#(b)\n",
    "print(s[7:9])\n",
    "#(c)\n",
    "print(s[1:8])\n",
    "#(d)\n",
    "print(s[0:4])\n",
    "#(e)\n",
    "print(s[7:10])"
   ]
  },
  {
   "cell_type": "code",
   "execution_count": 16,
   "metadata": {},
   "outputs": [
    {
     "name": "stdout",
     "output_type": "stream",
     "text": [
      "the number of 'day' is: 2\n",
      "13\n",
      "it will be a cloudy day today\n"
     ]
    }
   ],
   "source": [
    "#4.2\n",
    "forecast='it will be a sunny day today'\n",
    "count=forecast.count('day')\n",
    "print(\"the number of 'day' is:\",count)\n",
    "weather=forecast.index('sunny')\n",
    "print(weather)\n",
    "change=forecast.replace('sunny','cloudy')\n",
    "print(change)"
   ]
  },
  {
   "cell_type": "code",
   "execution_count": 18,
   "metadata": {},
   "outputs": [
    {
     "name": "stdout",
     "output_type": "stream",
     "text": [
      "Smith \t John \t Paul\n"
     ]
    }
   ],
   "source": [
    "#4.3\n",
    "last = 'Smith'\n",
    "first = 'John'\n",
    "middle = 'Paul'\n",
    "print(last,\"\\t\",first,\"\\t\",middle)"
   ]
  },
  {
   "cell_type": "code",
   "execution_count": 20,
   "metadata": {},
   "outputs": [
    {
     "name": "stdout",
     "output_type": "stream",
     "text": [
      "2\n",
      "3\n",
      "4\n",
      "6\n",
      "8\n",
      "9\n"
     ]
    }
   ],
   "source": [
    "#4.4\n",
    "def even(n):\n",
    "    for i in range(2,n):\n",
    "        if i%2==0 or i%3==0:\n",
    "            print(i)\n",
    "even(10)"
   ]
  },
  {
   "cell_type": "code",
   "execution_count": 17,
   "metadata": {},
   "outputs": [
    {
     "name": "stdout",
     "output_type": "stream",
     "text": [
      "John  Doe \n",
      " 123  Main Street \n",
      " AnyCity , AS  09876\n"
     ]
    }
   ],
   "source": [
    "#4.5\n",
    "first = 'John'\n",
    "last = 'Doe'\n",
    "street = 'Main Street'\n",
    "number = 123\n",
    "city = 'AnyCity'\n",
    "state = 'AS'\n",
    "zipcode = '09876'\n",
    "print(first,\"\",last,\"\\n\",number,\"\",street,\"\\n\",city,\",\",state,\"\",zipcode)"
   ]
  },
  {
   "cell_type": "code",
   "execution_count": 10,
   "metadata": {},
   "outputs": [
    {
     "name": "stdout",
     "output_type": "stream",
     "text": [
      "bcd\n",
      "abc\n",
      "defghijklmnopqrstuvwx\n",
      "wxy\n",
      "wxyz\n"
     ]
    }
   ],
   "source": [
    "#4.12\n",
    "s = 'abcdefghijklmnopqrstuvwxyz'\n",
    "print(s[1:4])\n",
    "print(s[0:3])\n",
    "print(s[3:-2])\n",
    "print(s[-4:-1])\n",
    "print(s[22:26])"
   ]
  },
  {
   "cell_type": "code",
   "execution_count": 14,
   "metadata": {},
   "outputs": [
    {
     "name": "stdout",
     "output_type": "stream",
     "text": [
      "49\n",
      "2\n",
      "The xxxx of this message is that it is a xxxx\n"
     ]
    }
   ],
   "source": [
    "#4.17\n",
    "message='The secret of this message is that it is a secret'\n",
    "length=len(message)\n",
    "print(length)\n",
    "count=message.count('secret')\n",
    "print(count)\n",
    "censored=message.replace('secret','xxxx')\n",
    "print(censored)\n",
    "\n"
   ]
  },
  {
   "cell_type": "code",
   "execution_count": 16,
   "metadata": {},
   "outputs": [
    {
     "name": "stdout",
     "output_type": "stream",
     "text": [
      "From:tim@abc.com\n",
      "To:tom@xyz.org\n",
      "Subject:Hello!\n"
     ]
    }
   ],
   "source": [
    "#4.20\n",
    "sender='tim@abc.com'\n",
    "recipient = 'tom@xyz.org'\n",
    "ubject = 'Hello!'\n",
    "print(\"From:\"+sender+\"\\n\"+\"To:\"+recipient+\"\\n\"+\"Subject:\"+ubject)"
   ]
  },
  {
   "cell_type": "code",
   "execution_count": 12,
   "metadata": {},
   "outputs": [
    {
     "name": "stdout",
     "output_type": "stream",
     "text": [
      "['10', '20', '30', '40', '50', '60']\n",
      "['10', '20', '30', '40', '50', '60']\n",
      "['10', '20', '30', '40', '50', '60']\n",
      "['10', '20', '30', '40', '50', '60']\n",
      "['10', '20', '30', '40', '50', '60']\n",
      "['10', '20', '30', '40', '50', '60']\n"
     ]
    }
   ],
   "source": [
    "#4.21\n",
    "s=['10', '20', '30', '40', '50', '60']\n",
    "for i in s:\n",
    "    value=i.split('&')\n",
    "\n"
   ]
  },
  {
   "cell_type": "code",
   "execution_count": 14,
   "metadata": {},
   "outputs": [
    {
     "name": "stdout",
     "output_type": "stream",
     "text": [
      "Enter a sentence: my name is ramin\n",
      "3.25\n"
     ]
    }
   ],
   "source": [
    "#4.23\n",
    "def average():\n",
    "    \n",
    "    sentence=str(input(\"Enter a sentence: \")).split()\n",
    "    avg=sum(len(words) for words in sentence)/len(sentence)\n",
    "    print(avg)    \n",
    "        \n",
    "average()"
   ]
  },
  {
   "cell_type": "code",
   "execution_count": 15,
   "metadata": {},
   "outputs": [
    {
     "name": "stdout",
     "output_type": "stream",
     "text": [
      "enter a string: 'Le Tour de France'\n",
      "1\n",
      "3\n",
      "0\n",
      "1\n",
      "1\n"
     ]
    }
   ],
   "source": [
    "#4.24\n",
    "def vowelcount():\n",
    "    vowel=str(input(\"enter a string: \"))\n",
    "    for i in 'aeiou':\n",
    "        vowels=vowel.count(i)\n",
    "        print(vowels)\n",
    "vowelcount()"
   ]
  }
 ],
 "metadata": {
  "kernelspec": {
   "display_name": "Python 3",
   "language": "python",
   "name": "python3"
  },
  "language_info": {
   "codemirror_mode": {
    "name": "ipython",
    "version": 3
   },
   "file_extension": ".py",
   "mimetype": "text/x-python",
   "name": "python",
   "nbconvert_exporter": "python",
   "pygments_lexer": "ipython3",
   "version": "3.7.3"
  }
 },
 "nbformat": 4,
 "nbformat_minor": 2
}
